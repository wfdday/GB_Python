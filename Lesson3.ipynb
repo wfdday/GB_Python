{
 "cells": [
  {
   "attachments": {},
   "cell_type": "markdown",
   "metadata": {},
   "source": [
    "### Задание 1"
   ]
  },
  {
   "cell_type": "code",
   "execution_count": 8,
   "metadata": {},
   "outputs": [],
   "source": [
    "import pandas as pd"
   ]
  },
  {
   "attachments": {},
   "cell_type": "markdown",
   "metadata": {},
   "source": [
    "Считать данные с помощью pandas\n",
    "Вывести на экран первые 5 строк"
   ]
  },
  {
   "cell_type": "code",
   "execution_count": 9,
   "metadata": {},
   "outputs": [
    {
     "name": "stdout",
     "output_type": "stream",
     "text": [
      "           id             date     price  bedrooms  bathrooms  sqft_living  \\\n",
      "0  7129300520  20141013T000000  221900.0         3       1.00         1180   \n",
      "1  6414100192  20141209T000000  538000.0         3       2.25         2570   \n",
      "2  5631500400  20150225T000000  180000.0         2       1.00          770   \n",
      "3  2487200875  20141209T000000  604000.0         4       3.00         1960   \n",
      "4  1954400510  20150218T000000  510000.0         3       2.00         1680   \n",
      "\n",
      "   sqft_lot  floors  waterfront  view  ...  grade  sqft_above  sqft_basement  \\\n",
      "0      5650     1.0           0     0  ...      7      1180.0              0   \n",
      "1      7242     2.0           0     0  ...      7      2170.0            400   \n",
      "2     10000     1.0           0     0  ...      6       770.0              0   \n",
      "3      5000     1.0           0     0  ...      7      1050.0            910   \n",
      "4      8080     1.0           0     0  ...      8      1680.0              0   \n",
      "\n",
      "   yr_built  yr_renovated  zipcode      lat     long  sqft_living15  \\\n",
      "0      1955             0    98178  47.5112 -122.257           1340   \n",
      "1      1951          1991    98125  47.7210 -122.319           1690   \n",
      "2      1933             0    98028  47.7379 -122.233           2720   \n",
      "3      1965             0    98136  47.5208 -122.393           1360   \n",
      "4      1987             0    98074  47.6168 -122.045           1800   \n",
      "\n",
      "   sqft_lot15  \n",
      "0        5650  \n",
      "1        7639  \n",
      "2        8062  \n",
      "3        5000  \n",
      "4        7503  \n",
      "\n",
      "[5 rows x 21 columns]\n"
     ]
    }
   ],
   "source": [
    "file_path = \"C:\\Dev\\GB\\JupiterN\\kc_house_data.csv\"\n",
    "data = pd.read_csv(file_path)\n",
    "\n",
    "print(data.head())"
   ]
  },
  {
   "attachments": {},
   "cell_type": "markdown",
   "metadata": {},
   "source": [
    "1.1 Создать новый признак price_per_sq_lot,\n",
    "который будет содержать среднюю стоимость за\n",
    "один кв. метр общей площади"
   ]
  },
  {
   "cell_type": "code",
   "execution_count": 10,
   "metadata": {},
   "outputs": [],
   "source": [
    "data['price_per_sq_lot'] = data['price'] / data['sqft_lot']"
   ]
  },
  {
   "attachments": {},
   "cell_type": "markdown",
   "metadata": {},
   "source": [
    "1.2 Создать новый признак delta_renovated,\n",
    "который будет содержать разницу в годах между\n",
    "годом реновацией дома и годом постройки дома\n",
    "Если реновации дома не было, то в новом признаке поставьте 0"
   ]
  },
  {
   "cell_type": "code",
   "execution_count": 11,
   "metadata": {},
   "outputs": [],
   "source": [
    "data['date'] = pd.to_datetime(data['date'])\n",
    "data['yr_renovated'] = data['yr_renovated'].fillna(0).astype(int)\n",
    "data['delta_renovated'] = data['date'].dt.year - data['yr_built']\n",
    "data.loc[data['yr_renovated'] > 0, 'delta_renovated'] = data['date'].dt.year - data['yr_renovated']"
   ]
  },
  {
   "attachments": {},
   "cell_type": "markdown",
   "metadata": {},
   "source": [
    "1.3 Создайте признаки года продажи, месяца продажи"
   ]
  },
  {
   "cell_type": "code",
   "execution_count": 12,
   "metadata": {},
   "outputs": [],
   "source": [
    "data['year_sold'] = data['date'].dt.year\n",
    "data['month_sold'] = data['date'].dt.month"
   ]
  },
  {
   "attachments": {},
   "cell_type": "markdown",
   "metadata": {},
   "source": [
    "1.4 Удалите признаки date, zipcode, lat, long"
   ]
  },
  {
   "cell_type": "code",
   "execution_count": 13,
   "metadata": {},
   "outputs": [],
   "source": [
    "data.drop(['date', 'zipcode', 'lat', 'long'], axis=1, inplace=True)"
   ]
  },
  {
   "cell_type": "code",
   "execution_count": 14,
   "metadata": {},
   "outputs": [
    {
     "name": "stdout",
     "output_type": "stream",
     "text": [
      "           id     price  bedrooms  bathrooms  sqft_living  sqft_lot  floors  \\\n",
      "0  7129300520  221900.0         3       1.00         1180      5650     1.0   \n",
      "1  6414100192  538000.0         3       2.25         2570      7242     2.0   \n",
      "2  5631500400  180000.0         2       1.00          770     10000     1.0   \n",
      "3  2487200875  604000.0         4       3.00         1960      5000     1.0   \n",
      "4  1954400510  510000.0         3       2.00         1680      8080     1.0   \n",
      "\n",
      "   waterfront  view  condition  ...  sqft_above  sqft_basement  yr_built  \\\n",
      "0           0     0          3  ...      1180.0              0      1955   \n",
      "1           0     0          3  ...      2170.0            400      1951   \n",
      "2           0     0          3  ...       770.0              0      1933   \n",
      "3           0     0          5  ...      1050.0            910      1965   \n",
      "4           0     0          3  ...      1680.0              0      1987   \n",
      "\n",
      "   yr_renovated  sqft_living15  sqft_lot15  price_per_sq_lot  delta_renovated  \\\n",
      "0             0           1340        5650         39.274336               59   \n",
      "1          1991           1690        7639         74.288870               23   \n",
      "2             0           2720        8062         18.000000               82   \n",
      "3             0           1360        5000        120.800000               49   \n",
      "4             0           1800        7503         63.118812               28   \n",
      "\n",
      "   year_sold  month_sold  \n",
      "0       2014          10  \n",
      "1       2014          12  \n",
      "2       2015           2  \n",
      "3       2014          12  \n",
      "4       2015           2  \n",
      "\n",
      "[5 rows x 21 columns]\n"
     ]
    }
   ],
   "source": [
    "print(data.head())"
   ]
  },
  {
   "attachments": {},
   "cell_type": "markdown",
   "metadata": {},
   "source": [
    "### Задание 2\n",
    "\n",
    "Создайте датафрейм с клиентами:\n",
    "clients = pd.DataFrame({\n",
    " 'client_id': [1459, 4684, 3498, 3942, 4535, 2308, 2866, 2765, 1472, 4236, 2295, 939, 3840, 280, 20, 4332, 3475, 4213, 3113,\n",
    "4809, 2134, 2242, 2068, 4929, 1384, 1589, 3317, 2260, 1727, 1764, 1611, 1474],\n",
    " 'house_id': [8965450190, 6823100225, 5104540330, 2131701075, 1522700060, 1189000207, 6821600300, 7137950720,\n",
    "9510920050, 6131600255, 5428000070, 1788800910, 8100400160, 3123049142, 6306800010, 5083000375, 7920100025,\n",
    "1951600150, 809001400, 339600110, 1622049154, 1099600250, 8563000110, 2768100205, 3995700435, 8861700030,\n",
    "3303980210, 7731100066, 8146100580, 825069097, 3889100029, 9524100196]\n",
    "})\n",
    "house_id - это индексы датафрейма с домами\n"
   ]
  },
  {
   "cell_type": "code",
   "execution_count": 15,
   "metadata": {},
   "outputs": [],
   "source": [
    "clients = pd.DataFrame({\n",
    "    'client_id': [1459, 4684, 3498, 3942, 4535, 2308, 2866, 2765, 1472, 4236, 2295, 939, 3840, 280, 20, 4332, 3475, 4213, 3113,\n",
    "                  4809, 2134, 2242, 2068, 4929, 1384, 1589, 3317, 2260, 1727, 1764, 1611, 1474],\n",
    "    'house_id': [8965450190, 6823100225, 5104540330, 2131701075, 1522700060, 1189000207, 6821600300, 7137950720,\n",
    "                 9510920050, 6131600255, 5428000070, 1788800910, 8100400160, 3123049142, 6306800010, 5083000375, 7920100025,\n",
    "                 1951600150, 809001400, 339600110, 1622049154, 1099600250, 8563000110, 2768100205, 3995700435, 8861700030,\n",
    "                 3303980210, 7731100066, 8146100580, 825069097, 3889100029, 9524100196]\n",
    "})"
   ]
  },
  {
   "cell_type": "code",
   "execution_count": 16,
   "metadata": {},
   "outputs": [],
   "source": [
    "houses = pd.DataFrame({\n",
    "    'house_id': [8965450190, 6823100225, 5104540330, 2131701075, 1522700060, 1189000207, 6821600300, 7137950720,\n",
    "                 9510920050, 6131600255, 5428000070, 1788800910, 8100400160, 3123049142, 6306800010, 5083000375, 7920100025,\n",
    "                 1951600150, 809001400, 339600110, 1622049154, 1099600250, 8563000110, 2768100205, 3995700435, 8861700030,\n",
    "                 3303980210, 7731100066, 8146100580, 825069097, 3889100029, 9524100196],\n",
    "    'house_info': ['info1', 'info2', 'info3', 'info4', 'info5', 'info6', 'info7', 'info8', 'info9', 'info10', 'info11', 'info12',\n",
    "                   'info13', 'info14', 'info15', 'info16', 'info17', 'info18', 'info19', 'info20', 'info21', 'info22', 'info23',\n",
    "                   'info24', 'info25', 'info26', 'info27', 'info28', 'info29', 'info30', 'info31', 'info32']\n",
    "})"
   ]
  },
  {
   "attachments": {},
   "cell_type": "markdown",
   "metadata": {},
   "source": [
    "2.1 Присоедините к таблице clients данные по домам через метод join"
   ]
  },
  {
   "cell_type": "code",
   "execution_count": 17,
   "metadata": {},
   "outputs": [],
   "source": [
    "clients_joined = clients.join(houses.set_index('house_id'), on='house_id')"
   ]
  },
  {
   "attachments": {},
   "cell_type": "markdown",
   "metadata": {},
   "source": [
    "2.2 Присоедините к таблице clients данные по домам через метод merge"
   ]
  },
  {
   "cell_type": "code",
   "execution_count": 18,
   "metadata": {},
   "outputs": [],
   "source": [
    "clients_merged = clients.merge(houses, on='house_id')"
   ]
  },
  {
   "cell_type": "code",
   "execution_count": 19,
   "metadata": {},
   "outputs": [
    {
     "name": "stdout",
     "output_type": "stream",
     "text": [
      "Joined DataFrame:\n",
      "    client_id    house_id house_info\n",
      "0        1459  8965450190      info1\n",
      "1        4684  6823100225      info2\n",
      "2        3498  5104540330      info3\n",
      "3        3942  2131701075      info4\n",
      "4        4535  1522700060      info5\n",
      "5        2308  1189000207      info6\n",
      "6        2866  6821600300      info7\n",
      "7        2765  7137950720      info8\n",
      "8        1472  9510920050      info9\n",
      "9        4236  6131600255     info10\n",
      "10       2295  5428000070     info11\n",
      "11        939  1788800910     info12\n",
      "12       3840  8100400160     info13\n",
      "13        280  3123049142     info14\n",
      "14         20  6306800010     info15\n",
      "15       4332  5083000375     info16\n",
      "16       3475  7920100025     info17\n",
      "17       4213  1951600150     info18\n",
      "18       3113   809001400     info19\n",
      "19       4809   339600110     info20\n",
      "20       2134  1622049154     info21\n",
      "21       2242  1099600250     info22\n",
      "22       2068  8563000110     info23\n",
      "23       4929  2768100205     info24\n",
      "24       1384  3995700435     info25\n",
      "25       1589  8861700030     info26\n",
      "26       3317  3303980210     info27\n",
      "27       2260  7731100066     info28\n",
      "28       1727  8146100580     info29\n",
      "29       1764   825069097     info30\n",
      "30       1611  3889100029     info31\n",
      "31       1474  9524100196     info32\n"
     ]
    }
   ],
   "source": [
    "print(\"Joined DataFrame:\")\n",
    "print(clients_joined)"
   ]
  },
  {
   "cell_type": "code",
   "execution_count": 20,
   "metadata": {},
   "outputs": [
    {
     "name": "stdout",
     "output_type": "stream",
     "text": [
      "\n",
      "Merged DataFrame:\n",
      "    client_id    house_id house_info\n",
      "0        1459  8965450190      info1\n",
      "1        4684  6823100225      info2\n",
      "2        3498  5104540330      info3\n",
      "3        3942  2131701075      info4\n",
      "4        4535  1522700060      info5\n",
      "5        2308  1189000207      info6\n",
      "6        2866  6821600300      info7\n",
      "7        2765  7137950720      info8\n",
      "8        1472  9510920050      info9\n",
      "9        4236  6131600255     info10\n",
      "10       2295  5428000070     info11\n",
      "11        939  1788800910     info12\n",
      "12       3840  8100400160     info13\n",
      "13        280  3123049142     info14\n",
      "14         20  6306800010     info15\n",
      "15       4332  5083000375     info16\n",
      "16       3475  7920100025     info17\n",
      "17       4213  1951600150     info18\n",
      "18       3113   809001400     info19\n",
      "19       4809   339600110     info20\n",
      "20       2134  1622049154     info21\n",
      "21       2242  1099600250     info22\n",
      "22       2068  8563000110     info23\n",
      "23       4929  2768100205     info24\n",
      "24       1384  3995700435     info25\n",
      "25       1589  8861700030     info26\n",
      "26       3317  3303980210     info27\n",
      "27       2260  7731100066     info28\n",
      "28       1727  8146100580     info29\n",
      "29       1764   825069097     info30\n",
      "30       1611  3889100029     info31\n",
      "31       1474  9524100196     info32\n"
     ]
    }
   ],
   "source": [
    "print(\"\\nMerged DataFrame:\")\n",
    "print(clients_merged)"
   ]
  },
  {
   "attachments": {},
   "cell_type": "markdown",
   "metadata": {},
   "source": [
    "### Задание 3\n",
    "\n",
    "Составьте несколько сводных таблиц"
   ]
  },
  {
   "attachments": {},
   "cell_type": "markdown",
   "metadata": {},
   "source": [
    "3.1 Найдите среднюю стоимость домов в\n",
    "зависимости от количества спален"
   ]
  },
  {
   "cell_type": "code",
   "execution_count": 21,
   "metadata": {},
   "outputs": [],
   "source": [
    "average_price_per_bedrooms = data.groupby('bedrooms')['price'].mean().sort_values()"
   ]
  },
  {
   "attachments": {},
   "cell_type": "markdown",
   "metadata": {},
   "source": [
    "3.2 Найдите минимальную, среднюю и\n",
    "максимальную стоимости домов в зависимости от\n",
    "состояния дома"
   ]
  },
  {
   "cell_type": "code",
   "execution_count": 22,
   "metadata": {},
   "outputs": [],
   "source": [
    "price_by_condition = data.groupby('condition')['price'].agg(['min', 'mean', 'max'])"
   ]
  },
  {
   "attachments": {},
   "cell_type": "markdown",
   "metadata": {},
   "source": [
    "3.3 Постройте таблицу с подсчетом количества\n",
    "домов в данных в зависимости от вида на\n",
    "набережную и оценкой вида"
   ]
  },
  {
   "cell_type": "code",
   "execution_count": 23,
   "metadata": {},
   "outputs": [],
   "source": [
    "count_by_waterfront_view = data.pivot_table(index='waterfront', columns='view', values='id', aggfunc='count')"
   ]
  },
  {
   "attachments": {},
   "cell_type": "markdown",
   "metadata": {},
   "source": [
    "3.4 Каких домов в зависимости от этажности и\n",
    "количества спален больше?"
   ]
  },
  {
   "cell_type": "code",
   "execution_count": 24,
   "metadata": {},
   "outputs": [],
   "source": [
    "most_common_types = data.groupby(['floors', 'bedrooms']).size().sort_values(ascending=False)"
   ]
  },
  {
   "attachments": {},
   "cell_type": "markdown",
   "metadata": {},
   "source": [
    "3.5 Постройте таблицу с подсчетом медианной\n",
    "стоимости домов в данных в зависимости от\n",
    "состояния дома и оценки дома"
   ]
  },
  {
   "cell_type": "code",
   "execution_count": 25,
   "metadata": {},
   "outputs": [],
   "source": [
    "median_price_by_condition_view = data.groupby(['condition', 'view'])['price'].median().unstack()\n"
   ]
  },
  {
   "attachments": {},
   "cell_type": "markdown",
   "metadata": {},
   "source": [
    "Вывод результатов:"
   ]
  },
  {
   "cell_type": "code",
   "execution_count": 26,
   "metadata": {},
   "outputs": [
    {
     "name": "stdout",
     "output_type": "stream",
     "text": [
      "3.1 Average Price per Bedrooms:\n",
      "bedrooms\n",
      "1     3.176429e+05\n",
      "2     4.013727e+05\n",
      "0     4.095038e+05\n",
      "3     4.662321e+05\n",
      "11    5.200000e+05\n",
      "4     6.354195e+05\n",
      "33    6.400000e+05\n",
      "5     7.865998e+05\n",
      "10    8.193333e+05\n",
      "6     8.255206e+05\n",
      "9     8.939998e+05\n",
      "7     9.511847e+05\n",
      "8     1.105077e+06\n",
      "Name: price, dtype: float64\n"
     ]
    }
   ],
   "source": [
    "print(\"3.1 Average Price per Bedrooms:\")\n",
    "print(average_price_per_bedrooms)"
   ]
  },
  {
   "cell_type": "code",
   "execution_count": 27,
   "metadata": {},
   "outputs": [
    {
     "name": "stdout",
     "output_type": "stream",
     "text": [
      "\n",
      "3.2 Price by Condition:\n",
      "                min           mean        max\n",
      "condition                                    \n",
      "1           78000.0  334431.666667  1500000.0\n",
      "2           80000.0  327287.145349  2555000.0\n",
      "3           75000.0  542012.578148  7062500.0\n",
      "4           89000.0  521200.390033  7700000.0\n",
      "5          110000.0  612418.089359  3650000.0\n"
     ]
    }
   ],
   "source": [
    "print(\"\\n3.2 Price by Condition:\")\n",
    "print(price_by_condition)"
   ]
  },
  {
   "cell_type": "code",
   "execution_count": 28,
   "metadata": {},
   "outputs": [
    {
     "name": "stdout",
     "output_type": "stream",
     "text": [
      "\n",
      "3.3 Count by Waterfront View:\n",
      "view              0      1      2      3      4\n",
      "waterfront                                     \n",
      "0           19489.0  331.0  955.0  491.0  184.0\n",
      "1               NaN    1.0    8.0   19.0  135.0\n"
     ]
    }
   ],
   "source": [
    "print(\"\\n3.3 Count by Waterfront View:\")\n",
    "print(count_by_waterfront_view)"
   ]
  },
  {
   "cell_type": "code",
   "execution_count": 29,
   "metadata": {},
   "outputs": [
    {
     "name": "stdout",
     "output_type": "stream",
     "text": [
      "\n",
      "3.4 Most Common Types of Houses:\n",
      "floors  bedrooms\n",
      "1.0     3           5455\n",
      "2.0     4           3682\n",
      "        3           3118\n",
      "1.0     4           2383\n",
      "        2           1951\n",
      "1.5     3            786\n",
      "2.0     5            775\n",
      "1.5     4            698\n",
      "1.0     5            605\n",
      "2.0     2            497\n",
      "3.0     3            405\n",
      "1.5     5            185\n",
      "        2            182\n",
      "1.0     1            162\n",
      "3.0     2            123\n",
      "2.0     6            119\n",
      "1.0     6            104\n",
      "3.0     4             61\n",
      "2.5     4             58\n",
      "        3             56\n",
      "1.5     6             30\n",
      "2.5     5             23\n",
      "1.5     1             21\n",
      "2.0     7             19\n",
      "2.5     6             14\n",
      "3.0     5             13\n",
      "2.0     1             12\n",
      "1.0     7              9\n",
      "1.5     7              7\n",
      "2.0     0              6\n",
      "        8              6\n",
      "3.0     6              5\n",
      "1.0     8              5\n",
      "2.5     2              5\n",
      "3.5     3              4\n",
      "1.0     0              4\n",
      "2.0     9              4\n",
      "3.0     1              3\n",
      "2.5     7              2\n",
      "        9              2\n",
      "3.0     0              2\n",
      "2.0     10             2\n",
      "3.5     2              2\n",
      "2.5     1              1\n",
      "2.0     11             1\n",
      "1.5     8              1\n",
      "1.0     33             1\n",
      "3.0     7              1\n",
      "3.5     0              1\n",
      "1.0     10             1\n",
      "3.5     8              1\n",
      "dtype: int64\n"
     ]
    }
   ],
   "source": [
    "print(\"\\n3.4 Most Common Types of Houses:\")\n",
    "print(most_common_types)"
   ]
  },
  {
   "cell_type": "code",
   "execution_count": 30,
   "metadata": {},
   "outputs": [
    {
     "name": "stdout",
     "output_type": "stream",
     "text": [
      "\n",
      "3.5 Median Price by Condition and View:\n",
      "view              0         1         2          3          4\n",
      "condition                                                    \n",
      "1          255000.0  295000.0       NaN        NaN   455000.0\n",
      "2          272405.0  800000.0  375000.0   384065.0        NaN\n",
      "3          436000.0  700000.0  675000.0   805000.0  1187500.0\n",
      "4          419000.0  665900.0  647475.0   790000.0  1088890.0\n",
      "5          487500.0  716250.0  774975.0  1050000.0  1411600.0\n"
     ]
    }
   ],
   "source": [
    "print(\"\\n3.5 Median Price by Condition and View:\")\n",
    "print(median_price_by_condition_view)"
   ]
  }
 ],
 "metadata": {
  "kernelspec": {
   "display_name": "Python 3",
   "language": "python",
   "name": "python3"
  },
  "language_info": {
   "codemirror_mode": {
    "name": "ipython",
    "version": 3
   },
   "file_extension": ".py",
   "mimetype": "text/x-python",
   "name": "python",
   "nbconvert_exporter": "python",
   "pygments_lexer": "ipython3",
   "version": "3.10.6"
  },
  "orig_nbformat": 4,
  "vscode": {
   "interpreter": {
    "hash": "27753dfea2fd1116136a4e0d29ba60f41c58d3a91be8f8d28a4efe1086e4c7ec"
   }
  }
 },
 "nbformat": 4,
 "nbformat_minor": 2
}
